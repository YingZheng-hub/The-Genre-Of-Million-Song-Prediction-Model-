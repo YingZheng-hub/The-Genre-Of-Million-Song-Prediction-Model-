{
 "cells": [
  {
   "cell_type": "markdown",
   "metadata": {},
   "source": [
    "# Goal\n",
    "    Predicting the genre of songs based on the frequency of words in lyrics by k-nearest neighbor algorithm  "
   ]
  },
  {
   "cell_type": "markdown",
   "metadata": {},
   "source": [
    "# Exploring Data \n",
    "\n",
    "We will use Datasets adapted from the Million Song Dataset\n",
    "The data consists of\n",
    "1. title of song\n",
    "2. name of musical group\n",
    "3. genre of song\n",
    "   with songs from the Country and Hip-hop genres.\n"
   ]
  },
  {
   "cell_type": "markdown",
   "metadata": {},
   "source": [
    "# Importing Packages \n",
    "1. numpy package for manipulations of arrays\n",
    "2. matplotlib package for generating charts\n",
    "3. pandas package for handling tables\n",
    "4. helper function created in advance that generates charts with the seaborn package."
   ]
  },
  {
   "cell_type": "code",
   "execution_count": 79,
   "metadata": {},
   "outputs": [],
   "source": [
    "# import some packages\n",
    "\n",
    "import numpy as np\n",
    "import pandas as pd\n",
    "\n",
    "import matplotlib.pyplot as plt\n",
    "import seaborn as sns\n",
    "\n",
    "import helper_functions\n",
    "\n",
    "# change some settings\n",
    "\n",
    "pd.set_option('display.max_rows', 10)\n",
    "pd.set_option('display.max_columns', 8)\n",
    "plt.rcParams['figure.figsize'] = (10,8)\n",
    "\n",
    "# indicate paths to files\n",
    "\n",
    "import os \n",
    "home = os.environ[\"HOME\"]\n",
    "path_to_data = f\"{home}/lyrics.csv\"\n",
    "path_to_dictionary = f\"{home}/words.csv\""
   ]
  },
  {
   "cell_type": "markdown",
   "metadata": {},
   "source": [
    "# Loading Data "
   ]
  },
  {
   "cell_type": "code",
   "execution_count": 80,
   "metadata": {},
   "outputs": [
    {
     "data": {
      "text/html": [
       "<div>\n",
       "<style scoped>\n",
       "    .dataframe tbody tr th:only-of-type {\n",
       "        vertical-align: middle;\n",
       "    }\n",
       "\n",
       "    .dataframe tbody tr th {\n",
       "        vertical-align: top;\n",
       "    }\n",
       "\n",
       "    .dataframe thead th {\n",
       "        text-align: right;\n",
       "    }\n",
       "</style>\n",
       "<table border=\"1\" class=\"dataframe\">\n",
       "  <thead>\n",
       "    <tr style=\"text-align: right;\">\n",
       "      <th></th>\n",
       "      <th>Title</th>\n",
       "      <th>Artist</th>\n",
       "      <th>Genre</th>\n",
       "      <th>i</th>\n",
       "      <th>...</th>\n",
       "      <th>santo</th>\n",
       "      <th>pe</th>\n",
       "      <th>gee</th>\n",
       "      <th>colleg</th>\n",
       "    </tr>\n",
       "  </thead>\n",
       "  <tbody>\n",
       "    <tr>\n",
       "      <th>0</th>\n",
       "      <td>Buried Alive</td>\n",
       "      <td>Hell Razah</td>\n",
       "      <td>Hip-hop</td>\n",
       "      <td>0.028395</td>\n",
       "      <td>...</td>\n",
       "      <td>0.0</td>\n",
       "      <td>0.0</td>\n",
       "      <td>0.0</td>\n",
       "      <td>0.0</td>\n",
       "    </tr>\n",
       "    <tr>\n",
       "      <th>1</th>\n",
       "      <td>Little Things</td>\n",
       "      <td>Danni Leigh</td>\n",
       "      <td>Country</td>\n",
       "      <td>0.024862</td>\n",
       "      <td>...</td>\n",
       "      <td>0.0</td>\n",
       "      <td>0.0</td>\n",
       "      <td>0.0</td>\n",
       "      <td>0.0</td>\n",
       "    </tr>\n",
       "    <tr>\n",
       "      <th>2</th>\n",
       "      <td>Open</td>\n",
       "      <td>Afu-Ra</td>\n",
       "      <td>Hip-hop</td>\n",
       "      <td>0.052198</td>\n",
       "      <td>...</td>\n",
       "      <td>0.0</td>\n",
       "      <td>0.0</td>\n",
       "      <td>0.0</td>\n",
       "      <td>0.0</td>\n",
       "    </tr>\n",
       "  </tbody>\n",
       "</table>\n",
       "<p>3 rows × 4820 columns</p>\n",
       "</div>"
      ],
      "text/plain": [
       "           Title       Artist    Genre         i  ...  santo   pe  gee  colleg\n",
       "0   Buried Alive   Hell Razah  Hip-hop  0.028395  ...    0.0  0.0  0.0     0.0\n",
       "1  Little Things  Danni Leigh  Country  0.024862  ...    0.0  0.0  0.0     0.0\n",
       "2           Open       Afu-Ra  Hip-hop  0.052198  ...    0.0  0.0  0.0     0.0\n",
       "\n",
       "[3 rows x 4820 columns]"
      ]
     },
     "execution_count": 80,
     "metadata": {},
     "output_type": "execute_result"
    }
   ],
   "source": [
    "lyrics = pd.read_csv(path_to_data)\n",
    "lyrics.head(3)\n",
    "#load the data into the table lyrics"
   ]
  },
  {
   "cell_type": "markdown",
   "metadata": {},
   "source": [
    "Note that each song has a unique title. Besides Title, Artist and Genre, we have about 5000 columns corresponding to words. The columns indicate the frequency of the words in songs."
   ]
  },
  {
   "cell_type": "code",
   "execution_count": 81,
   "metadata": {},
   "outputs": [
    {
     "data": {
      "text/html": [
       "<div>\n",
       "<style scoped>\n",
       "    .dataframe tbody tr th:only-of-type {\n",
       "        vertical-align: middle;\n",
       "    }\n",
       "\n",
       "    .dataframe tbody tr th {\n",
       "        vertical-align: top;\n",
       "    }\n",
       "\n",
       "    .dataframe thead th {\n",
       "        text-align: right;\n",
       "    }\n",
       "</style>\n",
       "<table border=\"1\" class=\"dataframe\">\n",
       "  <thead>\n",
       "    <tr style=\"text-align: right;\">\n",
       "      <th></th>\n",
       "      <th>Title</th>\n",
       "      <th>Artist</th>\n",
       "      <th>Genre</th>\n",
       "      <th>like</th>\n",
       "      <th>love</th>\n",
       "      <th>the</th>\n",
       "    </tr>\n",
       "  </thead>\n",
       "  <tbody>\n",
       "    <tr>\n",
       "      <th>962</th>\n",
       "      <td>In Your Eyes</td>\n",
       "      <td>Alison Krauss</td>\n",
       "      <td>Country</td>\n",
       "      <td>0.011905</td>\n",
       "      <td>0.059524</td>\n",
       "      <td>0.0</td>\n",
       "    </tr>\n",
       "  </tbody>\n",
       "</table>\n",
       "</div>"
      ],
      "text/plain": [
       "            Title         Artist    Genre      like      love  the\n",
       "962  In Your Eyes  Alison Krauss  Country  0.011905  0.059524  0.0"
      ]
     },
     "execution_count": 81,
     "metadata": {},
     "output_type": "execute_result"
    }
   ],
   "source": [
    "lyrics.loc[lyrics[\"Title\"] == \"In Your Eyes\",['Title', 'Artist', 'Genre','like','love','the']]"
   ]
  },
  {
   "cell_type": "markdown",
   "metadata": {},
   "source": [
    "Here we have a few columns from the row for the country song \"In Your Eyes\" by Alison Krauss. The song contains 168 words. The word like appears two times\n",
    "2/168≈0.0119\n",
    " \n",
    "The word love appears 10 times\n",
    "10/168≈0.0595\n",
    " \n",
    "The word the does not appear in the song."
   ]
  },
  {
   "cell_type": "markdown",
   "metadata": {},
   "source": [
    "# Splitting  lyrics data into two datasets called training_set and testing_set"
   ]
  },
  {
   "cell_type": "markdown",
   "metadata": {},
   "source": [
    "1. We will use training_set to determine an approach to classifying songs into genres.\n",
    "2. We will compare the predicted genres and observed genres in the testing_set.\n",
    "3. So training_set will help us to make classification and testing_set will help us to evaluate the classifications.\n",
    "We assign 80% of data in training set and 20 % in testing dataset "
   ]
  },
  {
   "cell_type": "code",
   "execution_count": 82,
   "metadata": {},
   "outputs": [],
   "source": [
    "training_proportion = 0.8\n",
    "\n",
    "number_songs = len(lyrics)\n",
    "number_training = int(number_songs * training_proportion)"
   ]
  },
  {
   "cell_type": "code",
   "execution_count": 83,
   "metadata": {},
   "outputs": [
    {
     "data": {
      "text/plain": [
       "1335"
      ]
     },
     "execution_count": 83,
     "metadata": {},
     "output_type": "execute_result"
    }
   ],
   "source": [
    "number_training "
   ]
  },
  {
   "cell_type": "markdown",
   "metadata": {},
   "source": [
    "1. We need to ensure that the training_set and testing_set contain different songs. \n",
    "2. We should split the sets at random to avoid any patterns in the rows. \n",
    "    For example, we should not take the training_set to consist of Country songs and the testing_set to consist of Hip-hop songs."
   ]
  },
  {
   "cell_type": "code",
   "execution_count": 84,
   "metadata": {},
   "outputs": [],
   "source": [
    "lyrics_shuffled = lyrics.sample(frac = 1, random_state = 42)\n",
    "\n",
    "training_set = lyrics_shuffled.iloc[:number_training]\n",
    "testing_set = lyrics_shuffled.iloc[number_training:]"
   ]
  },
  {
   "cell_type": "code",
   "execution_count": 85,
   "metadata": {},
   "outputs": [
    {
     "data": {
      "text/html": [
       "<div>\n",
       "<style scoped>\n",
       "    .dataframe tbody tr th:only-of-type {\n",
       "        vertical-align: middle;\n",
       "    }\n",
       "\n",
       "    .dataframe tbody tr th {\n",
       "        vertical-align: top;\n",
       "    }\n",
       "\n",
       "    .dataframe thead th {\n",
       "        text-align: right;\n",
       "    }\n",
       "</style>\n",
       "<table border=\"1\" class=\"dataframe\">\n",
       "  <thead>\n",
       "    <tr style=\"text-align: right;\">\n",
       "      <th></th>\n",
       "      <th>Title</th>\n",
       "      <th>Artist</th>\n",
       "      <th>Genre</th>\n",
       "      <th>i</th>\n",
       "      <th>...</th>\n",
       "      <th>santo</th>\n",
       "      <th>pe</th>\n",
       "      <th>gee</th>\n",
       "      <th>colleg</th>\n",
       "    </tr>\n",
       "  </thead>\n",
       "  <tbody>\n",
       "    <tr>\n",
       "      <th>941</th>\n",
       "      <td>Bring It On Home To Me</td>\n",
       "      <td>Mickey Gilley</td>\n",
       "      <td>Country</td>\n",
       "      <td>0.052632</td>\n",
       "      <td>...</td>\n",
       "      <td>0.0</td>\n",
       "      <td>0.0</td>\n",
       "      <td>0.0</td>\n",
       "      <td>0.0</td>\n",
       "    </tr>\n",
       "    <tr>\n",
       "      <th>988</th>\n",
       "      <td>Early morning riser</td>\n",
       "      <td>Pure Prairie League</td>\n",
       "      <td>Country</td>\n",
       "      <td>0.033962</td>\n",
       "      <td>...</td>\n",
       "      <td>0.0</td>\n",
       "      <td>0.0</td>\n",
       "      <td>0.0</td>\n",
       "      <td>0.0</td>\n",
       "    </tr>\n",
       "    <tr>\n",
       "      <th>405</th>\n",
       "      <td>We Danced</td>\n",
       "      <td>Brad Paisley</td>\n",
       "      <td>Country</td>\n",
       "      <td>0.072289</td>\n",
       "      <td>...</td>\n",
       "      <td>0.0</td>\n",
       "      <td>0.0</td>\n",
       "      <td>0.0</td>\n",
       "      <td>0.0</td>\n",
       "    </tr>\n",
       "    <tr>\n",
       "      <th>722</th>\n",
       "      <td>When We All Get To Heaven</td>\n",
       "      <td>Brad Paisley</td>\n",
       "      <td>Country</td>\n",
       "      <td>0.000000</td>\n",
       "      <td>...</td>\n",
       "      <td>0.0</td>\n",
       "      <td>0.0</td>\n",
       "      <td>0.0</td>\n",
       "      <td>0.0</td>\n",
       "    </tr>\n",
       "    <tr>\n",
       "      <th>1614</th>\n",
       "      <td>Between The Daylight And The Dark</td>\n",
       "      <td>Mary Gauthier</td>\n",
       "      <td>Country</td>\n",
       "      <td>0.000000</td>\n",
       "      <td>...</td>\n",
       "      <td>0.0</td>\n",
       "      <td>0.0</td>\n",
       "      <td>0.0</td>\n",
       "      <td>0.0</td>\n",
       "    </tr>\n",
       "    <tr>\n",
       "      <th>...</th>\n",
       "      <td>...</td>\n",
       "      <td>...</td>\n",
       "      <td>...</td>\n",
       "      <td>...</td>\n",
       "      <td>...</td>\n",
       "      <td>...</td>\n",
       "      <td>...</td>\n",
       "      <td>...</td>\n",
       "      <td>...</td>\n",
       "    </tr>\n",
       "    <tr>\n",
       "      <th>1130</th>\n",
       "      <td>Marijuano Locos (Stoned Raiders)</td>\n",
       "      <td>Cypress Hill</td>\n",
       "      <td>Hip-hop</td>\n",
       "      <td>0.000000</td>\n",
       "      <td>...</td>\n",
       "      <td>0.0</td>\n",
       "      <td>0.0</td>\n",
       "      <td>0.0</td>\n",
       "      <td>0.0</td>\n",
       "    </tr>\n",
       "    <tr>\n",
       "      <th>1294</th>\n",
       "      <td>Pop A Top</td>\n",
       "      <td>Jim Ed Brown &amp; The Browns</td>\n",
       "      <td>Country</td>\n",
       "      <td>0.067708</td>\n",
       "      <td>...</td>\n",
       "      <td>0.0</td>\n",
       "      <td>0.0</td>\n",
       "      <td>0.0</td>\n",
       "      <td>0.0</td>\n",
       "    </tr>\n",
       "    <tr>\n",
       "      <th>860</th>\n",
       "      <td>Maria</td>\n",
       "      <td>Kathleen Edwards</td>\n",
       "      <td>Country</td>\n",
       "      <td>0.068783</td>\n",
       "      <td>...</td>\n",
       "      <td>0.0</td>\n",
       "      <td>0.0</td>\n",
       "      <td>0.0</td>\n",
       "      <td>0.0</td>\n",
       "    </tr>\n",
       "    <tr>\n",
       "      <th>1459</th>\n",
       "      <td>Pa</td>\n",
       "      <td>Ryan Adams &amp; The Cardinals</td>\n",
       "      <td>Country</td>\n",
       "      <td>0.021978</td>\n",
       "      <td>...</td>\n",
       "      <td>0.0</td>\n",
       "      <td>0.0</td>\n",
       "      <td>0.0</td>\n",
       "      <td>0.0</td>\n",
       "    </tr>\n",
       "    <tr>\n",
       "      <th>1126</th>\n",
       "      <td>You Can Have Her</td>\n",
       "      <td>Jim Ed Brown &amp; The Browns</td>\n",
       "      <td>Country</td>\n",
       "      <td>0.052133</td>\n",
       "      <td>...</td>\n",
       "      <td>0.0</td>\n",
       "      <td>0.0</td>\n",
       "      <td>0.0</td>\n",
       "      <td>0.0</td>\n",
       "    </tr>\n",
       "  </tbody>\n",
       "</table>\n",
       "<p>1669 rows × 4820 columns</p>\n",
       "</div>"
      ],
      "text/plain": [
       "                                  Title                      Artist    Genre  \\\n",
       "941              Bring It On Home To Me               Mickey Gilley  Country   \n",
       "988                 Early morning riser         Pure Prairie League  Country   \n",
       "405                           We Danced                Brad Paisley  Country   \n",
       "722           When We All Get To Heaven                Brad Paisley  Country   \n",
       "1614  Between The Daylight And The Dark               Mary Gauthier  Country   \n",
       "...                                 ...                         ...      ...   \n",
       "1130   Marijuano Locos (Stoned Raiders)                Cypress Hill  Hip-hop   \n",
       "1294                          Pop A Top   Jim Ed Brown & The Browns  Country   \n",
       "860                               Maria            Kathleen Edwards  Country   \n",
       "1459                                 Pa  Ryan Adams & The Cardinals  Country   \n",
       "1126                   You Can Have Her   Jim Ed Brown & The Browns  Country   \n",
       "\n",
       "             i  ...  santo   pe  gee  colleg  \n",
       "941   0.052632  ...    0.0  0.0  0.0     0.0  \n",
       "988   0.033962  ...    0.0  0.0  0.0     0.0  \n",
       "405   0.072289  ...    0.0  0.0  0.0     0.0  \n",
       "722   0.000000  ...    0.0  0.0  0.0     0.0  \n",
       "1614  0.000000  ...    0.0  0.0  0.0     0.0  \n",
       "...        ...  ...    ...  ...  ...     ...  \n",
       "1130  0.000000  ...    0.0  0.0  0.0     0.0  \n",
       "1294  0.067708  ...    0.0  0.0  0.0     0.0  \n",
       "860   0.068783  ...    0.0  0.0  0.0     0.0  \n",
       "1459  0.021978  ...    0.0  0.0  0.0     0.0  \n",
       "1126  0.052133  ...    0.0  0.0  0.0     0.0  \n",
       "\n",
       "[1669 rows x 4820 columns]"
      ]
     },
     "execution_count": 85,
     "metadata": {},
     "output_type": "execute_result"
    }
   ],
   "source": [
    "lyrics_shuffled"
   ]
  },
  {
   "cell_type": "code",
   "execution_count": 86,
   "metadata": {},
   "outputs": [
    {
     "data": {
      "text/html": [
       "<div>\n",
       "<style scoped>\n",
       "    .dataframe tbody tr th:only-of-type {\n",
       "        vertical-align: middle;\n",
       "    }\n",
       "\n",
       "    .dataframe tbody tr th {\n",
       "        vertical-align: top;\n",
       "    }\n",
       "\n",
       "    .dataframe thead th {\n",
       "        text-align: right;\n",
       "    }\n",
       "</style>\n",
       "<table border=\"1\" class=\"dataframe\">\n",
       "  <thead>\n",
       "    <tr style=\"text-align: right;\">\n",
       "      <th></th>\n",
       "      <th>Title</th>\n",
       "      <th>Artist</th>\n",
       "      <th>Genre</th>\n",
       "      <th>i</th>\n",
       "      <th>...</th>\n",
       "      <th>santo</th>\n",
       "      <th>pe</th>\n",
       "      <th>gee</th>\n",
       "      <th>colleg</th>\n",
       "    </tr>\n",
       "  </thead>\n",
       "  <tbody>\n",
       "    <tr>\n",
       "      <th>941</th>\n",
       "      <td>Bring It On Home To Me</td>\n",
       "      <td>Mickey Gilley</td>\n",
       "      <td>Country</td>\n",
       "      <td>0.052632</td>\n",
       "      <td>...</td>\n",
       "      <td>0.0</td>\n",
       "      <td>0.0</td>\n",
       "      <td>0.0</td>\n",
       "      <td>0.0</td>\n",
       "    </tr>\n",
       "    <tr>\n",
       "      <th>988</th>\n",
       "      <td>Early morning riser</td>\n",
       "      <td>Pure Prairie League</td>\n",
       "      <td>Country</td>\n",
       "      <td>0.033962</td>\n",
       "      <td>...</td>\n",
       "      <td>0.0</td>\n",
       "      <td>0.0</td>\n",
       "      <td>0.0</td>\n",
       "      <td>0.0</td>\n",
       "    </tr>\n",
       "    <tr>\n",
       "      <th>405</th>\n",
       "      <td>We Danced</td>\n",
       "      <td>Brad Paisley</td>\n",
       "      <td>Country</td>\n",
       "      <td>0.072289</td>\n",
       "      <td>...</td>\n",
       "      <td>0.0</td>\n",
       "      <td>0.0</td>\n",
       "      <td>0.0</td>\n",
       "      <td>0.0</td>\n",
       "    </tr>\n",
       "    <tr>\n",
       "      <th>722</th>\n",
       "      <td>When We All Get To Heaven</td>\n",
       "      <td>Brad Paisley</td>\n",
       "      <td>Country</td>\n",
       "      <td>0.000000</td>\n",
       "      <td>...</td>\n",
       "      <td>0.0</td>\n",
       "      <td>0.0</td>\n",
       "      <td>0.0</td>\n",
       "      <td>0.0</td>\n",
       "    </tr>\n",
       "    <tr>\n",
       "      <th>1614</th>\n",
       "      <td>Between The Daylight And The Dark</td>\n",
       "      <td>Mary Gauthier</td>\n",
       "      <td>Country</td>\n",
       "      <td>0.000000</td>\n",
       "      <td>...</td>\n",
       "      <td>0.0</td>\n",
       "      <td>0.0</td>\n",
       "      <td>0.0</td>\n",
       "      <td>0.0</td>\n",
       "    </tr>\n",
       "    <tr>\n",
       "      <th>...</th>\n",
       "      <td>...</td>\n",
       "      <td>...</td>\n",
       "      <td>...</td>\n",
       "      <td>...</td>\n",
       "      <td>...</td>\n",
       "      <td>...</td>\n",
       "      <td>...</td>\n",
       "      <td>...</td>\n",
       "      <td>...</td>\n",
       "    </tr>\n",
       "    <tr>\n",
       "      <th>658</th>\n",
       "      <td>I Can</td>\n",
       "      <td>Nas</td>\n",
       "      <td>Hip-hop</td>\n",
       "      <td>0.108876</td>\n",
       "      <td>...</td>\n",
       "      <td>0.0</td>\n",
       "      <td>0.0</td>\n",
       "      <td>0.0</td>\n",
       "      <td>0.0</td>\n",
       "    </tr>\n",
       "    <tr>\n",
       "      <th>1357</th>\n",
       "      <td>Sinequanon</td>\n",
       "      <td>Hybrid</td>\n",
       "      <td>Hip-hop</td>\n",
       "      <td>0.000000</td>\n",
       "      <td>...</td>\n",
       "      <td>0.0</td>\n",
       "      <td>0.0</td>\n",
       "      <td>0.0</td>\n",
       "      <td>0.0</td>\n",
       "    </tr>\n",
       "    <tr>\n",
       "      <th>1019</th>\n",
       "      <td>Taste This</td>\n",
       "      <td>Mýa</td>\n",
       "      <td>Hip-hop</td>\n",
       "      <td>0.051667</td>\n",
       "      <td>...</td>\n",
       "      <td>0.0</td>\n",
       "      <td>0.0</td>\n",
       "      <td>0.0</td>\n",
       "      <td>0.0</td>\n",
       "    </tr>\n",
       "    <tr>\n",
       "      <th>1599</th>\n",
       "      <td>Duck Sick</td>\n",
       "      <td>Compton's Most Wanted</td>\n",
       "      <td>Hip-hop</td>\n",
       "      <td>0.031293</td>\n",
       "      <td>...</td>\n",
       "      <td>0.0</td>\n",
       "      <td>0.0</td>\n",
       "      <td>0.0</td>\n",
       "      <td>0.0</td>\n",
       "    </tr>\n",
       "    <tr>\n",
       "      <th>959</th>\n",
       "      <td>Matchbox</td>\n",
       "      <td>Carl Perkins</td>\n",
       "      <td>Country</td>\n",
       "      <td>0.077465</td>\n",
       "      <td>...</td>\n",
       "      <td>0.0</td>\n",
       "      <td>0.0</td>\n",
       "      <td>0.0</td>\n",
       "      <td>0.0</td>\n",
       "    </tr>\n",
       "  </tbody>\n",
       "</table>\n",
       "<p>1335 rows × 4820 columns</p>\n",
       "</div>"
      ],
      "text/plain": [
       "                                  Title                 Artist    Genre  \\\n",
       "941              Bring It On Home To Me          Mickey Gilley  Country   \n",
       "988                 Early morning riser    Pure Prairie League  Country   \n",
       "405                           We Danced           Brad Paisley  Country   \n",
       "722           When We All Get To Heaven           Brad Paisley  Country   \n",
       "1614  Between The Daylight And The Dark          Mary Gauthier  Country   \n",
       "...                                 ...                    ...      ...   \n",
       "658                               I Can                    Nas  Hip-hop   \n",
       "1357                         Sinequanon                 Hybrid  Hip-hop   \n",
       "1019                         Taste This                    Mýa  Hip-hop   \n",
       "1599                          Duck Sick  Compton's Most Wanted  Hip-hop   \n",
       "959                            Matchbox           Carl Perkins  Country   \n",
       "\n",
       "             i  ...  santo   pe  gee  colleg  \n",
       "941   0.052632  ...    0.0  0.0  0.0     0.0  \n",
       "988   0.033962  ...    0.0  0.0  0.0     0.0  \n",
       "405   0.072289  ...    0.0  0.0  0.0     0.0  \n",
       "722   0.000000  ...    0.0  0.0  0.0     0.0  \n",
       "1614  0.000000  ...    0.0  0.0  0.0     0.0  \n",
       "...        ...  ...    ...  ...  ...     ...  \n",
       "658   0.108876  ...    0.0  0.0  0.0     0.0  \n",
       "1357  0.000000  ...    0.0  0.0  0.0     0.0  \n",
       "1019  0.051667  ...    0.0  0.0  0.0     0.0  \n",
       "1599  0.031293  ...    0.0  0.0  0.0     0.0  \n",
       "959   0.077465  ...    0.0  0.0  0.0     0.0  \n",
       "\n",
       "[1335 rows x 4820 columns]"
      ]
     },
     "execution_count": 86,
     "metadata": {},
     "output_type": "execute_result"
    }
   ],
   "source": [
    "training_set"
   ]
  },
  {
   "cell_type": "code",
   "execution_count": 87,
   "metadata": {},
   "outputs": [
    {
     "data": {
      "text/html": [
       "<div>\n",
       "<style scoped>\n",
       "    .dataframe tbody tr th:only-of-type {\n",
       "        vertical-align: middle;\n",
       "    }\n",
       "\n",
       "    .dataframe tbody tr th {\n",
       "        vertical-align: top;\n",
       "    }\n",
       "\n",
       "    .dataframe thead th {\n",
       "        text-align: right;\n",
       "    }\n",
       "</style>\n",
       "<table border=\"1\" class=\"dataframe\">\n",
       "  <thead>\n",
       "    <tr style=\"text-align: right;\">\n",
       "      <th></th>\n",
       "      <th>Title</th>\n",
       "      <th>Artist</th>\n",
       "      <th>Genre</th>\n",
       "      <th>i</th>\n",
       "      <th>...</th>\n",
       "      <th>santo</th>\n",
       "      <th>pe</th>\n",
       "      <th>gee</th>\n",
       "      <th>colleg</th>\n",
       "    </tr>\n",
       "  </thead>\n",
       "  <tbody>\n",
       "    <tr>\n",
       "      <th>1565</th>\n",
       "      <td>Just Say She's A Rhymer</td>\n",
       "      <td>Mary Gauthier</td>\n",
       "      <td>Country</td>\n",
       "      <td>0.064327</td>\n",
       "      <td>...</td>\n",
       "      <td>0.0</td>\n",
       "      <td>0.0</td>\n",
       "      <td>0.0</td>\n",
       "      <td>0.0</td>\n",
       "    </tr>\n",
       "    <tr>\n",
       "      <th>283</th>\n",
       "      <td>John Walker's Blues</td>\n",
       "      <td>Steve Earle</td>\n",
       "      <td>Country</td>\n",
       "      <td>0.038462</td>\n",
       "      <td>...</td>\n",
       "      <td>0.0</td>\n",
       "      <td>0.0</td>\n",
       "      <td>0.0</td>\n",
       "      <td>0.0</td>\n",
       "    </tr>\n",
       "    <tr>\n",
       "      <th>797</th>\n",
       "      <td>My Baby Walked Right Out On Me</td>\n",
       "      <td>Wanda Jackson</td>\n",
       "      <td>Country</td>\n",
       "      <td>0.055046</td>\n",
       "      <td>...</td>\n",
       "      <td>0.0</td>\n",
       "      <td>0.0</td>\n",
       "      <td>0.0</td>\n",
       "      <td>0.0</td>\n",
       "    </tr>\n",
       "    <tr>\n",
       "      <th>1358</th>\n",
       "      <td>I Am a Man of Constant Sorrow</td>\n",
       "      <td>Alison Krauss &amp; Union Station</td>\n",
       "      <td>Country</td>\n",
       "      <td>0.079602</td>\n",
       "      <td>...</td>\n",
       "      <td>0.0</td>\n",
       "      <td>0.0</td>\n",
       "      <td>0.0</td>\n",
       "      <td>0.0</td>\n",
       "    </tr>\n",
       "    <tr>\n",
       "      <th>225</th>\n",
       "      <td>Asd</td>\n",
       "      <td>ASD</td>\n",
       "      <td>Hip-hop</td>\n",
       "      <td>0.000000</td>\n",
       "      <td>...</td>\n",
       "      <td>0.0</td>\n",
       "      <td>0.0</td>\n",
       "      <td>0.0</td>\n",
       "      <td>0.0</td>\n",
       "    </tr>\n",
       "    <tr>\n",
       "      <th>...</th>\n",
       "      <td>...</td>\n",
       "      <td>...</td>\n",
       "      <td>...</td>\n",
       "      <td>...</td>\n",
       "      <td>...</td>\n",
       "      <td>...</td>\n",
       "      <td>...</td>\n",
       "      <td>...</td>\n",
       "      <td>...</td>\n",
       "    </tr>\n",
       "    <tr>\n",
       "      <th>1130</th>\n",
       "      <td>Marijuano Locos (Stoned Raiders)</td>\n",
       "      <td>Cypress Hill</td>\n",
       "      <td>Hip-hop</td>\n",
       "      <td>0.000000</td>\n",
       "      <td>...</td>\n",
       "      <td>0.0</td>\n",
       "      <td>0.0</td>\n",
       "      <td>0.0</td>\n",
       "      <td>0.0</td>\n",
       "    </tr>\n",
       "    <tr>\n",
       "      <th>1294</th>\n",
       "      <td>Pop A Top</td>\n",
       "      <td>Jim Ed Brown &amp; The Browns</td>\n",
       "      <td>Country</td>\n",
       "      <td>0.067708</td>\n",
       "      <td>...</td>\n",
       "      <td>0.0</td>\n",
       "      <td>0.0</td>\n",
       "      <td>0.0</td>\n",
       "      <td>0.0</td>\n",
       "    </tr>\n",
       "    <tr>\n",
       "      <th>860</th>\n",
       "      <td>Maria</td>\n",
       "      <td>Kathleen Edwards</td>\n",
       "      <td>Country</td>\n",
       "      <td>0.068783</td>\n",
       "      <td>...</td>\n",
       "      <td>0.0</td>\n",
       "      <td>0.0</td>\n",
       "      <td>0.0</td>\n",
       "      <td>0.0</td>\n",
       "    </tr>\n",
       "    <tr>\n",
       "      <th>1459</th>\n",
       "      <td>Pa</td>\n",
       "      <td>Ryan Adams &amp; The Cardinals</td>\n",
       "      <td>Country</td>\n",
       "      <td>0.021978</td>\n",
       "      <td>...</td>\n",
       "      <td>0.0</td>\n",
       "      <td>0.0</td>\n",
       "      <td>0.0</td>\n",
       "      <td>0.0</td>\n",
       "    </tr>\n",
       "    <tr>\n",
       "      <th>1126</th>\n",
       "      <td>You Can Have Her</td>\n",
       "      <td>Jim Ed Brown &amp; The Browns</td>\n",
       "      <td>Country</td>\n",
       "      <td>0.052133</td>\n",
       "      <td>...</td>\n",
       "      <td>0.0</td>\n",
       "      <td>0.0</td>\n",
       "      <td>0.0</td>\n",
       "      <td>0.0</td>\n",
       "    </tr>\n",
       "  </tbody>\n",
       "</table>\n",
       "<p>334 rows × 4820 columns</p>\n",
       "</div>"
      ],
      "text/plain": [
       "                                 Title                         Artist  \\\n",
       "1565           Just Say She's A Rhymer                  Mary Gauthier   \n",
       "283                John Walker's Blues                    Steve Earle   \n",
       "797     My Baby Walked Right Out On Me                  Wanda Jackson   \n",
       "1358     I Am a Man of Constant Sorrow  Alison Krauss & Union Station   \n",
       "225                                Asd                            ASD   \n",
       "...                                ...                            ...   \n",
       "1130  Marijuano Locos (Stoned Raiders)                   Cypress Hill   \n",
       "1294                         Pop A Top      Jim Ed Brown & The Browns   \n",
       "860                              Maria               Kathleen Edwards   \n",
       "1459                                Pa     Ryan Adams & The Cardinals   \n",
       "1126                  You Can Have Her      Jim Ed Brown & The Browns   \n",
       "\n",
       "        Genre         i  ...  santo   pe  gee  colleg  \n",
       "1565  Country  0.064327  ...    0.0  0.0  0.0     0.0  \n",
       "283   Country  0.038462  ...    0.0  0.0  0.0     0.0  \n",
       "797   Country  0.055046  ...    0.0  0.0  0.0     0.0  \n",
       "1358  Country  0.079602  ...    0.0  0.0  0.0     0.0  \n",
       "225   Hip-hop  0.000000  ...    0.0  0.0  0.0     0.0  \n",
       "...       ...       ...  ...    ...  ...  ...     ...  \n",
       "1130  Hip-hop  0.000000  ...    0.0  0.0  0.0     0.0  \n",
       "1294  Country  0.067708  ...    0.0  0.0  0.0     0.0  \n",
       "860   Country  0.068783  ...    0.0  0.0  0.0     0.0  \n",
       "1459  Country  0.021978  ...    0.0  0.0  0.0     0.0  \n",
       "1126  Country  0.052133  ...    0.0  0.0  0.0     0.0  \n",
       "\n",
       "[334 rows x 4820 columns]"
      ]
     },
     "execution_count": 87,
     "metadata": {},
     "output_type": "execute_result"
    }
   ],
   "source": [
    "testing_set"
   ]
  },
  {
   "cell_type": "markdown",
   "metadata": {},
   "source": [
    "We randomly shuffled the rows of lyrics with the pandas function shuffle. However we get the same training_set and testing_set each time we split lyrics_shuffled"
   ]
  },
  {
   "cell_type": "markdown",
   "metadata": {},
   "source": [
    "We want to ensure that training_set and testing_set have a mix of the genres. \n",
    "So we compute the proportion of Country songs in training_set and testing_set below."
   ]
  },
  {
   "cell_type": "code",
   "execution_count": 88,
   "metadata": {},
   "outputs": [
    {
     "data": {
      "text/plain": [
       "0.5508982035928144"
      ]
     },
     "execution_count": 88,
     "metadata": {},
     "output_type": "execute_result"
    }
   ],
   "source": [
    "Counts_T = 0\n",
    "nonG = 0\n",
    "for i in training_set['Genre']:\n",
    "    if i == 'Country':\n",
    "        Counts_T += 1\n",
    "    else:\n",
    "        nonG += 1 \n",
    "proportion_country_training = Counts_T / (Counts_T + nonG)\n",
    "\n",
    "Counts_Test = 0\n",
    "nonG_Test = 0 \n",
    "for j in testing_set['Genre']:\n",
    "    if j == 'Country':\n",
    "        Counts_Test += 1\n",
    "    else:\n",
    "        nonG_Test += 1 \n",
    "proportion_country_testing = Counts_Test / (Counts_Test + nonG_Test)\n",
    "proportion_country_testing"
   ]
  },
  {
   "cell_type": "markdown",
   "metadata": {},
   "source": [
    "Let's generate a bar-chart from the proportions."
   ]
  },
  {
   "cell_type": "code",
   "execution_count": 89,
   "metadata": {},
   "outputs": [
    {
     "data": {
      "image/png": "[encoded data removed]",
      "text/plain": [
       "<Figure size 720x576 with 1 Axes>"
      ]
     },
     "metadata": {
      "needs_background": "light"
     },
     "output_type": "display_data"
    }
   ],
   "source": [
    "plt.barh([\"Testing\",\"Training\"], [proportion_country_testing, proportion_country_training])\n",
    "plt.title(\"Proportion of Country songs in Training/Testing sets\");"
   ]
  },
  {
   "cell_type": "markdown",
   "metadata": {},
   "source": [
    "# Use the k-nearest neighbors approach to classify songs"
   ]
  },
  {
   "cell_type": "markdown",
   "metadata": {},
   "source": [
    "Each song in training_set and testing_set has a genre Country or Hip-hop for genre. However, we need to predict a genre for the songs in testing_set. If we want to classify a song in testing_set then we compare to the songs in training_set. We compare songs with the frequency of words. If the frequency of words in two songs are similar, then we expect the genre of the songs to be similar."
   ]
  },
  {
   "cell_type": "code",
   "execution_count": 90,
   "metadata": {},
   "outputs": [
    {
     "data": {
      "image/png": "[encoded data removed]",
      "text/plain": [
       "<Figure size 720x576 with 1 Axes>"
      ]
     },
     "metadata": {
      "needs_background": "light"
     },
     "output_type": "display_data"
    }
   ],
   "source": [
    "words = [\"like\", \"love\"]\n",
    "unlableled_points = [\"Sangria Wine\"]\n",
    "labeled_points = [\"In Your Eyes\", \"Insane In The Brain\"]\n",
    "\n",
    "helper_functions.generate_scatterplot(words, unlableled_points, labeled_points, testing_set, training_set)"
   ]
  },
  {
   "cell_type": "markdown",
   "metadata": {},
   "source": [
    "Here we have three songs\n",
    "1. Sangria Wine in the testing set\n",
    "2. In Your Eyes and Insane In The Brain in the training set\n",
    "The genre of Sangria Wine is Country."
   ]
  },
  {
   "cell_type": "code",
   "execution_count": 91,
   "metadata": {},
   "outputs": [
    {
     "data": {
      "text/html": [
       "<div>\n",
       "<style scoped>\n",
       "    .dataframe tbody tr th:only-of-type {\n",
       "        vertical-align: middle;\n",
       "    }\n",
       "\n",
       "    .dataframe tbody tr th {\n",
       "        vertical-align: top;\n",
       "    }\n",
       "\n",
       "    .dataframe thead th {\n",
       "        text-align: right;\n",
       "    }\n",
       "</style>\n",
       "<table border=\"1\" class=\"dataframe\">\n",
       "  <thead>\n",
       "    <tr style=\"text-align: right;\">\n",
       "      <th></th>\n",
       "      <th>Title</th>\n",
       "      <th>Artist</th>\n",
       "      <th>Genre</th>\n",
       "      <th>i</th>\n",
       "      <th>...</th>\n",
       "      <th>santo</th>\n",
       "      <th>pe</th>\n",
       "      <th>gee</th>\n",
       "      <th>colleg</th>\n",
       "    </tr>\n",
       "  </thead>\n",
       "  <tbody>\n",
       "    <tr>\n",
       "      <th>686</th>\n",
       "      <td>Sangria Wine</td>\n",
       "      <td>Jerry Jeff Walker</td>\n",
       "      <td>Country</td>\n",
       "      <td>0.088106</td>\n",
       "      <td>...</td>\n",
       "      <td>0.0</td>\n",
       "      <td>0.0</td>\n",
       "      <td>0.0</td>\n",
       "      <td>0.0</td>\n",
       "    </tr>\n",
       "  </tbody>\n",
       "</table>\n",
       "<p>1 rows × 4820 columns</p>\n",
       "</div>"
      ],
      "text/plain": [
       "            Title             Artist    Genre         i  ...  santo   pe  gee  \\\n",
       "686  Sangria Wine  Jerry Jeff Walker  Country  0.088106  ...    0.0  0.0  0.0   \n",
       "\n",
       "     colleg  \n",
       "686     0.0  \n",
       "\n",
       "[1 rows x 4820 columns]"
      ]
     },
     "execution_count": 91,
     "metadata": {},
     "output_type": "execute_result"
    }
   ],
   "source": [
    "testing_set[testing_set[\"Title\"] == \"Sangria Wine\"]"
   ]
  },
  {
   "cell_type": "markdown",
   "metadata": {},
   "source": [
    "Based on the frequency of words in the lyrics, we want to predict the genre. We can compare the frequency of words in the lyrics of Sangria Wine to the lyrics of In Your Eyes and Insance In The Brain. Here we have the frequencies of the words like and love. We learn that Sangria Wine is closer to In Your Eyes than Insane in the Brain. So we would correctly classifiy Sangria Wine as Country based on the words like and love."
   ]
  },
  {
   "cell_type": "code",
   "execution_count": 92,
   "metadata": {},
   "outputs": [
    {
     "data": {
      "image/png": "[encoded data removed]",
      "text/plain": [
       "<Figure size 720x576 with 1 Axes>"
      ]
     },
     "metadata": {
      "needs_background": "light"
     },
     "output_type": "display_data"
    }
   ],
   "source": [
    "words = [\"like\", \"love\"]\n",
    "unlableled_points = [\"Sangria Wine\"]\n",
    "labeled_points = [\"In Your Eyes\", \"One Time\", \"Insane In The Brain\"]\n",
    "\n",
    "helper_functions.generate_scatterplot(words, unlableled_points, labeled_points, testing_set, training_set)"
   ]
  },
  {
   "cell_type": "markdown",
   "metadata": {},
   "source": [
    "We have many other songs in the training set. The song One Time in the Hip-hop genres seems close to Sangria Wine based on frequency of the words like and love in the lyrics."
   ]
  },
  {
   "cell_type": "markdown",
   "metadata": {},
   "source": [
    "Let's caluclate the distance between the songs to determine the genre of the song "
   ]
  },
  {
   "cell_type": "code",
   "execution_count": 93,
   "metadata": {},
   "outputs": [
    {
     "data": {
      "text/plain": [
       "0.03382894432459689"
      ]
     },
     "execution_count": 93,
     "metadata": {},
     "output_type": "execute_result"
    }
   ],
   "source": [
    "in_your_eyes = training_set.loc[training_set[\"Title\"] == \"In Your Eyes\",[\"like\",\"love\"]] \n",
    "sangria_wine = testing_set.loc[testing_set[\"Title\"] == \"Sangria Wine\",[\"like\",\"love\"]]\n",
    "\n",
    "distance = np.sum((sangria_wine.values - in_your_eyes.values)**2)\n",
    "distance = np.sqrt(distance)\n",
    "\n",
    "distance"
   ]
  },
  {
   "cell_type": "code",
   "execution_count": 94,
   "metadata": {},
   "outputs": [
    {
     "data": {
      "text/plain": [
       "0.03972572223189776"
      ]
     },
     "execution_count": 94,
     "metadata": {},
     "output_type": "execute_result"
    }
   ],
   "source": [
    "one_time = training_set.loc[training_set[\"Title\"] == \"One Time\", [\"like\",\"love\"]] \n",
    "sangria_wine = testing_set.loc[testing_set[\"Title\"] == \"Sangria Wine\", [\"like\",\"love\"]]\n",
    "\n",
    "distance = np.sum((sangria_wine.values - one_time.values)**2)\n",
    "distance = np.sqrt(distance)\n",
    "\n",
    "distance"
   ]
  },
  {
   "cell_type": "markdown",
   "metadata": {},
   "source": [
    "We learn that In Your Eyes is closer to Sangria Wine than One Time. \n",
    "So we would correctly predict that Sangria Wine is Country genre based on the frequency of the words like and love"
   ]
  },
  {
   "cell_type": "markdown",
   "metadata": {},
   "source": [
    "If we have many words to determine the genre of songs, we will need to write a function caculates the distance between two songs based on a collection of word. \n",
    "Let's write a function \"distance_two_songs\" \n",
    "with input\n",
    "\n",
    "row_1 : row in table corresponding to song 1\n",
    "row_2 : row in table corresponding to song 2\n",
    "words : list of words\n",
    "and output the distance between the songs."
   ]
  },
  {
   "cell_type": "code",
   "execution_count": 95,
   "metadata": {},
   "outputs": [],
   "source": [
    "def distance_two_songs(row_1, row_2, words):\n",
    "    coordinates_1 = row_1[words]\n",
    "    coordinates_2 = row_2[words]\n",
    "\n",
    "    distance = np.sum((coordinates_1.values - coordinates_2.values)**2)\n",
    "    distance = np.sqrt(distance)\n",
    "    \n",
    "    return distance"
   ]
  },
  {
   "cell_type": "markdown",
   "metadata": {},
   "source": [
    "Now we can compute the distance between In Your Eyes and Sangria Wine based on the words [\"like\",\"love\",\"the\"]"
   ]
  },
  {
   "cell_type": "code",
   "execution_count": 96,
   "metadata": {},
   "outputs": [
    {
     "data": {
      "text/plain": [
       "0.040367822490959014"
      ]
     },
     "execution_count": 96,
     "metadata": {},
     "output_type": "execute_result"
    }
   ],
   "source": [
    "in_your_eyes = training_set.loc[training_set[\"Title\"] == \"In Your Eyes\",:] \n",
    "sangria_wine = testing_set.loc[testing_set[\"Title\"] == \"Sangria Wine\",:]\n",
    "\n",
    "q2_1 = distance_two_songs(in_your_eyes,sangria_wine,[\"like\",\"love\",'the'])\n",
    "\n",
    "q2_1"
   ]
  },
  {
   "cell_type": "markdown",
   "metadata": {},
   "source": [
    "If we want to classify a song in testing_set then we need to compute distance to the songs in the training_set. Having written a function to compute the distance between two songs, we need to repeatedly use the function on training_set. We have a helper function compute_distances(written in files ahead) \n",
    "with input\n",
    "\n",
    "row : row in table corresponding to song\n",
    "training_set : table containing songs in training_set\n",
    "words : list of words\n",
    "and output array of distances.\n",
    "The output contains a number for each song in testing_set."
   ]
  },
  {
   "cell_type": "code",
   "execution_count": 97,
   "metadata": {},
   "outputs": [
    {
     "data": {
      "text/plain": [
       "array([0.09519904, 0.07280497, 0.1000939 , ..., 0.0892561 , 0.09677655,\n",
       "       0.09382014])"
      ]
     },
     "execution_count": 97,
     "metadata": {},
     "output_type": "execute_result"
    }
   ],
   "source": [
    "words = [\"like\", \"love\", \"the\"]\n",
    "row = testing_set.loc[testing_set[\"Title\"] == \"Sangria Wine\", :]\n",
    "\n",
    "distance = helper_functions.compute_distances(row, training_set, words)\n",
    "distance"
   ]
  },
  {
   "cell_type": "markdown",
   "metadata": {},
   "source": [
    "Adding the distances to a copy of training_set."
   ]
  },
  {
   "cell_type": "code",
   "execution_count": 98,
   "metadata": {},
   "outputs": [
    {
     "data": {
      "text/html": [
       "<div>\n",
       "<style scoped>\n",
       "    .dataframe tbody tr th:only-of-type {\n",
       "        vertical-align: middle;\n",
       "    }\n",
       "\n",
       "    .dataframe tbody tr th {\n",
       "        vertical-align: top;\n",
       "    }\n",
       "\n",
       "    .dataframe thead th {\n",
       "        text-align: right;\n",
       "    }\n",
       "</style>\n",
       "<table border=\"1\" class=\"dataframe\">\n",
       "  <thead>\n",
       "    <tr style=\"text-align: right;\">\n",
       "      <th></th>\n",
       "      <th>Title</th>\n",
       "      <th>Artist</th>\n",
       "      <th>Genre</th>\n",
       "      <th>i</th>\n",
       "      <th>...</th>\n",
       "      <th>pe</th>\n",
       "      <th>gee</th>\n",
       "      <th>colleg</th>\n",
       "      <th>distance</th>\n",
       "    </tr>\n",
       "  </thead>\n",
       "  <tbody>\n",
       "    <tr>\n",
       "      <th>941</th>\n",
       "      <td>Bring It On Home To Me</td>\n",
       "      <td>Mickey Gilley</td>\n",
       "      <td>Country</td>\n",
       "      <td>0.052632</td>\n",
       "      <td>...</td>\n",
       "      <td>0.0</td>\n",
       "      <td>0.0</td>\n",
       "      <td>0.0</td>\n",
       "      <td>0.095199</td>\n",
       "    </tr>\n",
       "    <tr>\n",
       "      <th>988</th>\n",
       "      <td>Early morning riser</td>\n",
       "      <td>Pure Prairie League</td>\n",
       "      <td>Country</td>\n",
       "      <td>0.033962</td>\n",
       "      <td>...</td>\n",
       "      <td>0.0</td>\n",
       "      <td>0.0</td>\n",
       "      <td>0.0</td>\n",
       "      <td>0.072805</td>\n",
       "    </tr>\n",
       "    <tr>\n",
       "      <th>405</th>\n",
       "      <td>We Danced</td>\n",
       "      <td>Brad Paisley</td>\n",
       "      <td>Country</td>\n",
       "      <td>0.072289</td>\n",
       "      <td>...</td>\n",
       "      <td>0.0</td>\n",
       "      <td>0.0</td>\n",
       "      <td>0.0</td>\n",
       "      <td>0.100094</td>\n",
       "    </tr>\n",
       "    <tr>\n",
       "      <th>722</th>\n",
       "      <td>When We All Get To Heaven</td>\n",
       "      <td>Brad Paisley</td>\n",
       "      <td>Country</td>\n",
       "      <td>0.000000</td>\n",
       "      <td>...</td>\n",
       "      <td>0.0</td>\n",
       "      <td>0.0</td>\n",
       "      <td>0.0</td>\n",
       "      <td>0.098729</td>\n",
       "    </tr>\n",
       "    <tr>\n",
       "      <th>1614</th>\n",
       "      <td>Between The Daylight And The Dark</td>\n",
       "      <td>Mary Gauthier</td>\n",
       "      <td>Country</td>\n",
       "      <td>0.000000</td>\n",
       "      <td>...</td>\n",
       "      <td>0.0</td>\n",
       "      <td>0.0</td>\n",
       "      <td>0.0</td>\n",
       "      <td>0.124163</td>\n",
       "    </tr>\n",
       "  </tbody>\n",
       "</table>\n",
       "<p>5 rows × 4821 columns</p>\n",
       "</div>"
      ],
      "text/plain": [
       "                                  Title               Artist    Genre  \\\n",
       "941              Bring It On Home To Me        Mickey Gilley  Country   \n",
       "988                 Early morning riser  Pure Prairie League  Country   \n",
       "405                           We Danced         Brad Paisley  Country   \n",
       "722           When We All Get To Heaven         Brad Paisley  Country   \n",
       "1614  Between The Daylight And The Dark        Mary Gauthier  Country   \n",
       "\n",
       "             i  ...   pe  gee  colleg  distance  \n",
       "941   0.052632  ...  0.0  0.0     0.0  0.095199  \n",
       "988   0.033962  ...  0.0  0.0     0.0  0.072805  \n",
       "405   0.072289  ...  0.0  0.0     0.0  0.100094  \n",
       "722   0.000000  ...  0.0  0.0     0.0  0.098729  \n",
       "1614  0.000000  ...  0.0  0.0     0.0  0.124163  \n",
       "\n",
       "[5 rows x 4821 columns]"
      ]
     },
     "execution_count": 98,
     "metadata": {},
     "output_type": "execute_result"
    }
   ],
   "source": [
    "training_set_with_distance = training_set.copy()\n",
    "training_set_with_distance[\"distance\"] = distance\n",
    "training_set_with_distance.head()"
   ]
  },
  {
   "cell_type": "markdown",
   "metadata": {},
   "source": [
    "We can find out that the closest song to Sangria Wine based on the frequency of the words [\"like\", \"love\", \"the\"] and its genre"
   ]
  },
  {
   "cell_type": "code",
   "execution_count": 99,
   "metadata": {},
   "outputs": [
    {
     "data": {
      "text/plain": [
       "array([\"I'm In Love\"], dtype=object)"
      ]
     },
     "execution_count": 99,
     "metadata": {},
     "output_type": "execute_result"
    }
   ],
   "source": [
    "number = training_set_with_distance['distance'] == training_set_with_distance['distance'].min()\n",
    "\n",
    "q2_2_1 = training_set_with_distance.loc[number,'Title'].values\n",
    "q2_2_1"
   ]
  },
  {
   "cell_type": "code",
   "execution_count": 100,
   "metadata": {},
   "outputs": [
    {
     "data": {
      "text/plain": [
       "331    Hip-hop\n",
       "Name: Genre, dtype: object"
      ]
     },
     "execution_count": 100,
     "metadata": {},
     "output_type": "execute_result"
    }
   ],
   "source": [
    "number = training_set_with_distance['distance'] == training_set_with_distance['distance'].min()\n",
    "\n",
    "q2_2_1 = training_set_with_distance.loc[number,'Genre']\n",
    "q2_2_1"
   ]
  },
  {
   "cell_type": "markdown",
   "metadata": {},
   "source": [
    "We noticed that the nearest point might have the wrong genre since we know the correct genre is \"country\" "
   ]
  },
  {
   "cell_type": "markdown",
   "metadata": {},
   "source": [
    "So we should study many nearby points. \n",
    "We fix an odd number  𝑘  like  3,5,7,… . \n",
    "We will calculate the  𝑘  nearest points in the training_set to the song in the testing_set. \n",
    "Among the  𝑘  nearest points will count the number of Country and Hip-hop songs."
   ]
  },
  {
   "cell_type": "markdown",
   "metadata": {},
   "source": [
    "1. If we have more Country than Hip-hop then we will clasify the song as Country\n",
    "2. If we have more Hip-hop than Country then we will clasify the song as Hip-hop\n",
    "3. Note that we use the same number  𝑘  throughout the classification. \n",
    "4. We will evaluate the prediction to determine a choice of  𝑘 .\n"
   ]
  },
  {
   "cell_type": "markdown",
   "metadata": {},
   "source": [
    "Firstly, We take the 15 songs closest to Sangria Wine."
   ]
  },
  {
   "cell_type": "code",
   "execution_count": 101,
   "metadata": {},
   "outputs": [
    {
     "data": {
      "text/html": [
       "<div>\n",
       "<style scoped>\n",
       "    .dataframe tbody tr th:only-of-type {\n",
       "        vertical-align: middle;\n",
       "    }\n",
       "\n",
       "    .dataframe tbody tr th {\n",
       "        vertical-align: top;\n",
       "    }\n",
       "\n",
       "    .dataframe thead th {\n",
       "        text-align: right;\n",
       "    }\n",
       "</style>\n",
       "<table border=\"1\" class=\"dataframe\">\n",
       "  <thead>\n",
       "    <tr style=\"text-align: right;\">\n",
       "      <th></th>\n",
       "      <th>Title</th>\n",
       "      <th>Artist</th>\n",
       "      <th>Genre</th>\n",
       "      <th>i</th>\n",
       "      <th>...</th>\n",
       "      <th>pe</th>\n",
       "      <th>gee</th>\n",
       "      <th>colleg</th>\n",
       "      <th>distance</th>\n",
       "    </tr>\n",
       "  </thead>\n",
       "  <tbody>\n",
       "    <tr>\n",
       "      <th>331</th>\n",
       "      <td>I'm In Love</td>\n",
       "      <td>Evelyn Champagne\" King\"</td>\n",
       "      <td>Hip-hop</td>\n",
       "      <td>0.052045</td>\n",
       "      <td>...</td>\n",
       "      <td>0.0</td>\n",
       "      <td>0.0</td>\n",
       "      <td>0.0</td>\n",
       "      <td>0.013627</td>\n",
       "    </tr>\n",
       "    <tr>\n",
       "      <th>1061</th>\n",
       "      <td>Your Love Gets Sweeter</td>\n",
       "      <td>Finley Quaye</td>\n",
       "      <td>Hip-hop</td>\n",
       "      <td>0.029536</td>\n",
       "      <td>...</td>\n",
       "      <td>0.0</td>\n",
       "      <td>0.0</td>\n",
       "      <td>0.0</td>\n",
       "      <td>0.021870</td>\n",
       "    </tr>\n",
       "    <tr>\n",
       "      <th>1534</th>\n",
       "      <td>All My Love</td>\n",
       "      <td>112</td>\n",
       "      <td>Hip-hop</td>\n",
       "      <td>0.020073</td>\n",
       "      <td>...</td>\n",
       "      <td>0.0</td>\n",
       "      <td>0.0</td>\n",
       "      <td>0.0</td>\n",
       "      <td>0.022150</td>\n",
       "    </tr>\n",
       "    <tr>\n",
       "      <th>810</th>\n",
       "      <td>Baby Love</td>\n",
       "      <td>MC Solaar</td>\n",
       "      <td>Hip-hop</td>\n",
       "      <td>0.000000</td>\n",
       "      <td>...</td>\n",
       "      <td>0.0</td>\n",
       "      <td>0.0</td>\n",
       "      <td>0.0</td>\n",
       "      <td>0.022844</td>\n",
       "    </tr>\n",
       "    <tr>\n",
       "      <th>464</th>\n",
       "      <td>True Love Ways</td>\n",
       "      <td>Mickey Gilley</td>\n",
       "      <td>Country</td>\n",
       "      <td>0.032520</td>\n",
       "      <td>...</td>\n",
       "      <td>0.0</td>\n",
       "      <td>0.0</td>\n",
       "      <td>0.0</td>\n",
       "      <td>0.028413</td>\n",
       "    </tr>\n",
       "    <tr>\n",
       "      <th>...</th>\n",
       "      <td>...</td>\n",
       "      <td>...</td>\n",
       "      <td>...</td>\n",
       "      <td>...</td>\n",
       "      <td>...</td>\n",
       "      <td>...</td>\n",
       "      <td>...</td>\n",
       "      <td>...</td>\n",
       "      <td>...</td>\n",
       "    </tr>\n",
       "    <tr>\n",
       "      <th>409</th>\n",
       "      <td>Tumbling Down</td>\n",
       "      <td>Allison Moorer</td>\n",
       "      <td>Country</td>\n",
       "      <td>0.008130</td>\n",
       "      <td>...</td>\n",
       "      <td>0.0</td>\n",
       "      <td>0.0</td>\n",
       "      <td>0.0</td>\n",
       "      <td>0.037901</td>\n",
       "    </tr>\n",
       "    <tr>\n",
       "      <th>1049</th>\n",
       "      <td>Dear Life</td>\n",
       "      <td>Anthony Hamilton</td>\n",
       "      <td>Hip-hop</td>\n",
       "      <td>0.054795</td>\n",
       "      <td>...</td>\n",
       "      <td>0.0</td>\n",
       "      <td>0.0</td>\n",
       "      <td>0.0</td>\n",
       "      <td>0.038197</td>\n",
       "    </tr>\n",
       "    <tr>\n",
       "      <th>232</th>\n",
       "      <td>When Love Finds You</td>\n",
       "      <td>Vince Gill</td>\n",
       "      <td>Country</td>\n",
       "      <td>0.000000</td>\n",
       "      <td>...</td>\n",
       "      <td>0.0</td>\n",
       "      <td>0.0</td>\n",
       "      <td>0.0</td>\n",
       "      <td>0.039807</td>\n",
       "    </tr>\n",
       "    <tr>\n",
       "      <th>1403</th>\n",
       "      <td>The Hardest Part</td>\n",
       "      <td>Allison Moorer</td>\n",
       "      <td>Country</td>\n",
       "      <td>0.007143</td>\n",
       "      <td>...</td>\n",
       "      <td>0.0</td>\n",
       "      <td>0.0</td>\n",
       "      <td>0.0</td>\n",
       "      <td>0.039982</td>\n",
       "    </tr>\n",
       "    <tr>\n",
       "      <th>1427</th>\n",
       "      <td>My Maria</td>\n",
       "      <td>B.W. Stevenson</td>\n",
       "      <td>Country</td>\n",
       "      <td>0.071006</td>\n",
       "      <td>...</td>\n",
       "      <td>0.0</td>\n",
       "      <td>0.0</td>\n",
       "      <td>0.0</td>\n",
       "      <td>0.040006</td>\n",
       "    </tr>\n",
       "  </tbody>\n",
       "</table>\n",
       "<p>15 rows × 4821 columns</p>\n",
       "</div>"
      ],
      "text/plain": [
       "                       Title                   Artist    Genre         i  ...  \\\n",
       "331              I'm In Love  Evelyn Champagne\" King\"  Hip-hop  0.052045  ...   \n",
       "1061  Your Love Gets Sweeter             Finley Quaye  Hip-hop  0.029536  ...   \n",
       "1534             All My Love                      112  Hip-hop  0.020073  ...   \n",
       "810                Baby Love                MC Solaar  Hip-hop  0.000000  ...   \n",
       "464           True Love Ways            Mickey Gilley  Country  0.032520  ...   \n",
       "...                      ...                      ...      ...       ...  ...   \n",
       "409            Tumbling Down           Allison Moorer  Country  0.008130  ...   \n",
       "1049               Dear Life         Anthony Hamilton  Hip-hop  0.054795  ...   \n",
       "232      When Love Finds You               Vince Gill  Country  0.000000  ...   \n",
       "1403        The Hardest Part           Allison Moorer  Country  0.007143  ...   \n",
       "1427                My Maria           B.W. Stevenson  Country  0.071006  ...   \n",
       "\n",
       "       pe  gee  colleg  distance  \n",
       "331   0.0  0.0     0.0  0.013627  \n",
       "1061  0.0  0.0     0.0  0.021870  \n",
       "1534  0.0  0.0     0.0  0.022150  \n",
       "810   0.0  0.0     0.0  0.022844  \n",
       "464   0.0  0.0     0.0  0.028413  \n",
       "...   ...  ...     ...       ...  \n",
       "409   0.0  0.0     0.0  0.037901  \n",
       "1049  0.0  0.0     0.0  0.038197  \n",
       "232   0.0  0.0     0.0  0.039807  \n",
       "1403  0.0  0.0     0.0  0.039982  \n",
       "1427  0.0  0.0     0.0  0.040006  \n",
       "\n",
       "[15 rows x 4821 columns]"
      ]
     },
     "execution_count": 101,
     "metadata": {},
     "output_type": "execute_result"
    }
   ],
   "source": [
    "training_set_with_distance_top_15 = training_set_with_distance.sort_values(\"distance\", ascending = True).head(15)\n",
    "training_set_with_distance_top_15"
   ]
  },
  {
   "cell_type": "code",
   "execution_count": 102,
   "metadata": {},
   "outputs": [
    {
     "name": "stdout",
     "output_type": "stream",
     "text": [
      "Country\n"
     ]
    }
   ],
   "source": [
    "count_country_nearest_neighbors = np.sum(training_set_with_distance_top_15['Genre'] == 'Country')\n",
    "count_hiphop_nearest_neighbors = np.sum(training_set_with_distance_top_15['Genre'] == 'Hip-hop')\n",
    "if count_country_nearest_neighbors > count_hiphop_nearest_neighbors:\n",
    "    print ('Country')\n",
    "else:\n",
    "    print ('HipHop')"
   ]
  },
  {
   "cell_type": "markdown",
   "metadata": {},
   "source": [
    "we classify Sangria Wine based on the genres of the nearest 15 songs as Country "
   ]
  },
  {
   "cell_type": "markdown",
   "metadata": {},
   "source": [
    "# Finding the genre by computing the mode meaning the most common value"
   ]
  },
  {
   "cell_type": "markdown",
   "metadata": {},
   "source": [
    "The function compute_mode has input\n",
    "\n",
    "column : string indicating columns of the table\n",
    "table : table containing data\n",
    "and output the mode of a column in a table."
   ]
  },
  {
   "cell_type": "code",
   "execution_count": 103,
   "metadata": {},
   "outputs": [],
   "source": [
    "def compute_mode(column, table):\n",
    "    return table[column].mode().values[0]\n"
   ]
  },
  {
   "cell_type": "markdown",
   "metadata": {},
   "source": [
    "Use compute_mode on the following table to predict the genre of Sangria Wine based on the 31 nearest songs."
   ]
  },
  {
   "cell_type": "code",
   "execution_count": 104,
   "metadata": {},
   "outputs": [
    {
     "data": {
      "text/plain": [
       "'Country'"
      ]
     },
     "execution_count": 104,
     "metadata": {},
     "output_type": "execute_result"
    }
   ],
   "source": [
    "training_set_with_distance_top_31 = training_set_with_distance.sort_values(\"distance\", ascending = True).head(31)\n",
    "q4_2 = compute_mode(\"Genre\",training_set_with_distance_top_31)\n",
    "q4_2"
   ]
  },
  {
   "cell_type": "markdown",
   "metadata": {},
   "source": [
    "We have been working with the words [\"like\", \"love\", \"the\"]. However, we need to choose words that help us to differentiate between genres. \n",
    "Based on common words in the Country and Hip-hop genres,let's try the words [\"street\",\"style\",\"truck\",\"lone\"]."
   ]
  },
  {
   "cell_type": "code",
   "execution_count": 105,
   "metadata": {},
   "outputs": [],
   "source": [
    "words = [\"like\",\"love\",\"the\",\"street\",\"style\",\"truck\",\"lone\"]\n",
    "training_set_with_distance = training_set.copy() \n",
    "#make a copy of the training set. We will add a column with the distance to a song in the testing set.\n",
    "k = 15\n",
    "#take k = 15\n",
    "predictions = []\n",
    "\n",
    "# iterate through the rows of testing_set\n",
    "for idx, row in testing_set.iterrows():\n",
    "    #compute distance from a song to the songs in training_set\n",
    "    distance = helper_functions.compute_distances(row, training_set_with_distance, words)\n",
    "    training_set_with_distance[\"distance\"] = distance\n",
    "    \n",
    "    # sort the songs in traing_set by distance\n",
    "    training_set_with_distance_top_k = training_set_with_distance.sort_values(\"distance\", ascending = True).head(k)\n",
    "    \n",
    "    # determine mode \n",
    "    prediction = compute_mode(\"Genre\", training_set_with_distance_top_k)\n",
    "    \n",
    "    # record the prediction\n",
    "    predictions.append(prediction)"
   ]
  },
  {
   "cell_type": "markdown",
   "metadata": {},
   "source": [
    "Checking how many songs classified Country and Hip-hop"
   ]
  },
  {
   "cell_type": "code",
   "execution_count": 106,
   "metadata": {},
   "outputs": [
    {
     "data": {
      "text/plain": [
       "196"
      ]
     },
     "execution_count": 106,
     "metadata": {},
     "output_type": "execute_result"
    }
   ],
   "source": [
    "count_country_testing = 0\n",
    "count_hiphop_testing = 0\n",
    "\n",
    "for i in predictions:\n",
    "    if i == \"Country\":\n",
    "        count_country_testing += 1\n",
    "    else:\n",
    "        count_hiphop_testing += 1\n",
    "count_country_testing "
   ]
  },
  {
   "cell_type": "markdown",
   "metadata": {},
   "source": [
    "# The Accuracy Rate of the Predictions When k = 15"
   ]
  },
  {
   "cell_type": "code",
   "execution_count": 107,
   "metadata": {},
   "outputs": [
    {
     "data": {
      "text/html": [
       "<div>\n",
       "<style scoped>\n",
       "    .dataframe tbody tr th:only-of-type {\n",
       "        vertical-align: middle;\n",
       "    }\n",
       "\n",
       "    .dataframe tbody tr th {\n",
       "        vertical-align: top;\n",
       "    }\n",
       "\n",
       "    .dataframe thead th {\n",
       "        text-align: right;\n",
       "    }\n",
       "</style>\n",
       "<table border=\"1\" class=\"dataframe\">\n",
       "  <thead>\n",
       "    <tr style=\"text-align: right;\">\n",
       "      <th></th>\n",
       "      <th>Title</th>\n",
       "      <th>Artist</th>\n",
       "      <th>Genre</th>\n",
       "      <th>i</th>\n",
       "      <th>...</th>\n",
       "      <th>pe</th>\n",
       "      <th>gee</th>\n",
       "      <th>colleg</th>\n",
       "      <th>predictions</th>\n",
       "    </tr>\n",
       "  </thead>\n",
       "  <tbody>\n",
       "    <tr>\n",
       "      <th>1565</th>\n",
       "      <td>Just Say She's A Rhymer</td>\n",
       "      <td>Mary Gauthier</td>\n",
       "      <td>Country</td>\n",
       "      <td>0.064327</td>\n",
       "      <td>...</td>\n",
       "      <td>0.0</td>\n",
       "      <td>0.0</td>\n",
       "      <td>0.0</td>\n",
       "      <td>Country</td>\n",
       "    </tr>\n",
       "    <tr>\n",
       "      <th>283</th>\n",
       "      <td>John Walker's Blues</td>\n",
       "      <td>Steve Earle</td>\n",
       "      <td>Country</td>\n",
       "      <td>0.038462</td>\n",
       "      <td>...</td>\n",
       "      <td>0.0</td>\n",
       "      <td>0.0</td>\n",
       "      <td>0.0</td>\n",
       "      <td>Hip-hop</td>\n",
       "    </tr>\n",
       "    <tr>\n",
       "      <th>797</th>\n",
       "      <td>My Baby Walked Right Out On Me</td>\n",
       "      <td>Wanda Jackson</td>\n",
       "      <td>Country</td>\n",
       "      <td>0.055046</td>\n",
       "      <td>...</td>\n",
       "      <td>0.0</td>\n",
       "      <td>0.0</td>\n",
       "      <td>0.0</td>\n",
       "      <td>Country</td>\n",
       "    </tr>\n",
       "  </tbody>\n",
       "</table>\n",
       "<p>3 rows × 4821 columns</p>\n",
       "</div>"
      ],
      "text/plain": [
       "                               Title         Artist    Genre         i  ...  \\\n",
       "1565         Just Say She's A Rhymer  Mary Gauthier  Country  0.064327  ...   \n",
       "283              John Walker's Blues    Steve Earle  Country  0.038462  ...   \n",
       "797   My Baby Walked Right Out On Me  Wanda Jackson  Country  0.055046  ...   \n",
       "\n",
       "       pe  gee  colleg  predictions  \n",
       "1565  0.0  0.0     0.0      Country  \n",
       "283   0.0  0.0     0.0      Hip-hop  \n",
       "797   0.0  0.0     0.0      Country  \n",
       "\n",
       "[3 rows x 4821 columns]"
      ]
     },
     "execution_count": 107,
     "metadata": {},
     "output_type": "execute_result"
    }
   ],
   "source": [
    "testing_set_with_predictions = testing_set.copy()\n",
    "testing_set_with_predictions[\"predictions\"] = predictions\n",
    "testing_set_with_predictions.head(3)\n",
    "#add predictions to a copy of testing_set."
   ]
  },
  {
   "cell_type": "code",
   "execution_count": 108,
   "metadata": {},
   "outputs": [
    {
     "data": {
      "text/html": [
       "<div>\n",
       "<style scoped>\n",
       "    .dataframe tbody tr th:only-of-type {\n",
       "        vertical-align: middle;\n",
       "    }\n",
       "\n",
       "    .dataframe tbody tr th {\n",
       "        vertical-align: top;\n",
       "    }\n",
       "\n",
       "    .dataframe thead th {\n",
       "        text-align: right;\n",
       "    }\n",
       "</style>\n",
       "<table border=\"1\" class=\"dataframe\">\n",
       "  <thead>\n",
       "    <tr style=\"text-align: right;\">\n",
       "      <th></th>\n",
       "      <th>Title</th>\n",
       "      <th>Artist</th>\n",
       "      <th>Genre</th>\n",
       "      <th>i</th>\n",
       "      <th>...</th>\n",
       "      <th>pe</th>\n",
       "      <th>gee</th>\n",
       "      <th>colleg</th>\n",
       "      <th>predictions</th>\n",
       "    </tr>\n",
       "  </thead>\n",
       "  <tbody>\n",
       "    <tr>\n",
       "      <th>1565</th>\n",
       "      <td>Just Say She's A Rhymer</td>\n",
       "      <td>Mary Gauthier</td>\n",
       "      <td>Country</td>\n",
       "      <td>0.064327</td>\n",
       "      <td>...</td>\n",
       "      <td>0.0</td>\n",
       "      <td>0.0</td>\n",
       "      <td>0.0</td>\n",
       "      <td>Country</td>\n",
       "    </tr>\n",
       "    <tr>\n",
       "      <th>283</th>\n",
       "      <td>John Walker's Blues</td>\n",
       "      <td>Steve Earle</td>\n",
       "      <td>Country</td>\n",
       "      <td>0.038462</td>\n",
       "      <td>...</td>\n",
       "      <td>0.0</td>\n",
       "      <td>0.0</td>\n",
       "      <td>0.0</td>\n",
       "      <td>Hip-hop</td>\n",
       "    </tr>\n",
       "    <tr>\n",
       "      <th>797</th>\n",
       "      <td>My Baby Walked Right Out On Me</td>\n",
       "      <td>Wanda Jackson</td>\n",
       "      <td>Country</td>\n",
       "      <td>0.055046</td>\n",
       "      <td>...</td>\n",
       "      <td>0.0</td>\n",
       "      <td>0.0</td>\n",
       "      <td>0.0</td>\n",
       "      <td>Country</td>\n",
       "    </tr>\n",
       "    <tr>\n",
       "      <th>1358</th>\n",
       "      <td>I Am a Man of Constant Sorrow</td>\n",
       "      <td>Alison Krauss &amp; Union Station</td>\n",
       "      <td>Country</td>\n",
       "      <td>0.079602</td>\n",
       "      <td>...</td>\n",
       "      <td>0.0</td>\n",
       "      <td>0.0</td>\n",
       "      <td>0.0</td>\n",
       "      <td>Country</td>\n",
       "    </tr>\n",
       "    <tr>\n",
       "      <th>225</th>\n",
       "      <td>Asd</td>\n",
       "      <td>ASD</td>\n",
       "      <td>Hip-hop</td>\n",
       "      <td>0.000000</td>\n",
       "      <td>...</td>\n",
       "      <td>0.0</td>\n",
       "      <td>0.0</td>\n",
       "      <td>0.0</td>\n",
       "      <td>Hip-hop</td>\n",
       "    </tr>\n",
       "    <tr>\n",
       "      <th>...</th>\n",
       "      <td>...</td>\n",
       "      <td>...</td>\n",
       "      <td>...</td>\n",
       "      <td>...</td>\n",
       "      <td>...</td>\n",
       "      <td>...</td>\n",
       "      <td>...</td>\n",
       "      <td>...</td>\n",
       "      <td>...</td>\n",
       "    </tr>\n",
       "    <tr>\n",
       "      <th>1130</th>\n",
       "      <td>Marijuano Locos (Stoned Raiders)</td>\n",
       "      <td>Cypress Hill</td>\n",
       "      <td>Hip-hop</td>\n",
       "      <td>0.000000</td>\n",
       "      <td>...</td>\n",
       "      <td>0.0</td>\n",
       "      <td>0.0</td>\n",
       "      <td>0.0</td>\n",
       "      <td>Hip-hop</td>\n",
       "    </tr>\n",
       "    <tr>\n",
       "      <th>1294</th>\n",
       "      <td>Pop A Top</td>\n",
       "      <td>Jim Ed Brown &amp; The Browns</td>\n",
       "      <td>Country</td>\n",
       "      <td>0.067708</td>\n",
       "      <td>...</td>\n",
       "      <td>0.0</td>\n",
       "      <td>0.0</td>\n",
       "      <td>0.0</td>\n",
       "      <td>Hip-hop</td>\n",
       "    </tr>\n",
       "    <tr>\n",
       "      <th>860</th>\n",
       "      <td>Maria</td>\n",
       "      <td>Kathleen Edwards</td>\n",
       "      <td>Country</td>\n",
       "      <td>0.068783</td>\n",
       "      <td>...</td>\n",
       "      <td>0.0</td>\n",
       "      <td>0.0</td>\n",
       "      <td>0.0</td>\n",
       "      <td>Country</td>\n",
       "    </tr>\n",
       "    <tr>\n",
       "      <th>1459</th>\n",
       "      <td>Pa</td>\n",
       "      <td>Ryan Adams &amp; The Cardinals</td>\n",
       "      <td>Country</td>\n",
       "      <td>0.021978</td>\n",
       "      <td>...</td>\n",
       "      <td>0.0</td>\n",
       "      <td>0.0</td>\n",
       "      <td>0.0</td>\n",
       "      <td>Hip-hop</td>\n",
       "    </tr>\n",
       "    <tr>\n",
       "      <th>1126</th>\n",
       "      <td>You Can Have Her</td>\n",
       "      <td>Jim Ed Brown &amp; The Browns</td>\n",
       "      <td>Country</td>\n",
       "      <td>0.052133</td>\n",
       "      <td>...</td>\n",
       "      <td>0.0</td>\n",
       "      <td>0.0</td>\n",
       "      <td>0.0</td>\n",
       "      <td>Country</td>\n",
       "    </tr>\n",
       "  </tbody>\n",
       "</table>\n",
       "<p>334 rows × 4821 columns</p>\n",
       "</div>"
      ],
      "text/plain": [
       "                                 Title                         Artist  \\\n",
       "1565           Just Say She's A Rhymer                  Mary Gauthier   \n",
       "283                John Walker's Blues                    Steve Earle   \n",
       "797     My Baby Walked Right Out On Me                  Wanda Jackson   \n",
       "1358     I Am a Man of Constant Sorrow  Alison Krauss & Union Station   \n",
       "225                                Asd                            ASD   \n",
       "...                                ...                            ...   \n",
       "1130  Marijuano Locos (Stoned Raiders)                   Cypress Hill   \n",
       "1294                         Pop A Top      Jim Ed Brown & The Browns   \n",
       "860                              Maria               Kathleen Edwards   \n",
       "1459                                Pa     Ryan Adams & The Cardinals   \n",
       "1126                  You Can Have Her      Jim Ed Brown & The Browns   \n",
       "\n",
       "        Genre         i  ...   pe  gee  colleg  predictions  \n",
       "1565  Country  0.064327  ...  0.0  0.0     0.0      Country  \n",
       "283   Country  0.038462  ...  0.0  0.0     0.0      Hip-hop  \n",
       "797   Country  0.055046  ...  0.0  0.0     0.0      Country  \n",
       "1358  Country  0.079602  ...  0.0  0.0     0.0      Country  \n",
       "225   Hip-hop  0.000000  ...  0.0  0.0     0.0      Hip-hop  \n",
       "...       ...       ...  ...  ...  ...     ...          ...  \n",
       "1130  Hip-hop  0.000000  ...  0.0  0.0     0.0      Hip-hop  \n",
       "1294  Country  0.067708  ...  0.0  0.0     0.0      Hip-hop  \n",
       "860   Country  0.068783  ...  0.0  0.0     0.0      Country  \n",
       "1459  Country  0.021978  ...  0.0  0.0     0.0      Hip-hop  \n",
       "1126  Country  0.052133  ...  0.0  0.0     0.0      Country  \n",
       "\n",
       "[334 rows x 4821 columns]"
      ]
     },
     "execution_count": 108,
     "metadata": {},
     "output_type": "execute_result"
    }
   ],
   "source": [
    "testing_set_with_predictions"
   ]
  },
  {
   "cell_type": "markdown",
   "metadata": {},
   "source": [
    "Let's compare Genre column with prediction column "
   ]
  },
  {
   "cell_type": "code",
   "execution_count": 109,
   "metadata": {},
   "outputs": [
    {
     "data": {
      "text/plain": [
       "0.6706586826347305"
      ]
     },
     "execution_count": 109,
     "metadata": {},
     "output_type": "execute_result"
    }
   ],
   "source": [
    "accuracy = np.sum(testing_set_with_predictions[\"Genre\"] == testing_set_with_predictions[\"predictions\"]) / len(testing_set_with_predictions)\n",
    "accuracy"
   ]
  },
  {
   "cell_type": "markdown",
   "metadata": {},
   "source": [
    "We find that 67% of the classification are correct.\n",
    "Try different k value to check correction rate differences. "
   ]
  },
  {
   "cell_type": "markdown",
   "metadata": {},
   "source": [
    "# The Accuracy Rate of the Predictions When k = 13"
   ]
  },
  {
   "cell_type": "code",
   "execution_count": 110,
   "metadata": {},
   "outputs": [
    {
     "data": {
      "text/plain": [
       "0.6586826347305389"
      ]
     },
     "execution_count": 110,
     "metadata": {},
     "output_type": "execute_result"
    }
   ],
   "source": [
    "words = [\"like\",\"love\",\"the\",\"street\",\"style\",\"truck\",\"lone\"]\n",
    "training_set_with_distance = training_set.copy()\n",
    "k = 31\n",
    "predictions = []\n",
    "\n",
    "# iterate through the rows of testing_set\n",
    "for idx, row in testing_set.iterrows():\n",
    "    #compute distance from a song to the songs in training_set\n",
    "    distance = helper_functions.compute_distances(row, training_set_with_distance, words)\n",
    "    training_set_with_distance[\"distance\"] = distance\n",
    "    \n",
    "    # sort the songs in traing_set by distance\n",
    "    training_set_with_distance_top_k = training_set_with_distance.sort_values(\"distance\", ascending = True).head(k)\n",
    "    \n",
    "    # determine mode \n",
    "    prediction = compute_mode(\"Genre\", training_set_with_distance_top_k)\n",
    "    \n",
    "    # record the prediction\n",
    "    predictions.append(prediction)\n",
    "testing_set_with_predictions = testing_set.copy()\n",
    "testing_set_with_predictions[\"predictions\"] = predictions\n",
    "q5_2 = np.sum(testing_set_with_predictions[\"Genre\"] == testing_set_with_predictions[\"predictions\"]) / len(testing_set_with_predictions)\n",
    "q5_2\n",
    "\n"
   ]
  },
  {
   "cell_type": "markdown",
   "metadata": {},
   "source": [
    "# The Accuracy Rate of the Predictions When k = 7"
   ]
  },
  {
   "cell_type": "code",
   "execution_count": 111,
   "metadata": {},
   "outputs": [
    {
     "data": {
      "text/plain": [
       "0.6916167664670658"
      ]
     },
     "execution_count": 111,
     "metadata": {},
     "output_type": "execute_result"
    }
   ],
   "source": [
    "words = [\"like\",\"love\",\"the\",\"street\",\"style\",\"truck\",\"lone\"]\n",
    "training_set_with_distance = training_set.copy()\n",
    "k = 7\n",
    "predictions = []\n",
    "\n",
    "# iterate through the rows of testing_set\n",
    "for idx, row in testing_set.iterrows():\n",
    "    #compute distance from a song to the songs in training_set\n",
    "    distance = helper_functions.compute_distances(row, training_set_with_distance, words)\n",
    "    training_set_with_distance[\"distance\"] = distance\n",
    "    \n",
    "    # sort the songs in traing_set by distance\n",
    "    training_set_with_distance_top_k = training_set_with_distance.sort_values(\"distance\", ascending = True).head(k)\n",
    "    \n",
    "    # determine mode \n",
    "    prediction = compute_mode(\"Genre\", training_set_with_distance_top_k)\n",
    "    \n",
    "    # record the prediction\n",
    "    predictions.append(prediction)\n",
    "testing_set_with_predictions = testing_set.copy()\n",
    "testing_set_with_predictions[\"predictions\"] = predictions\n",
    "q5_3 = np.sum(testing_set_with_predictions[\"Genre\"] == testing_set_with_predictions[\"predictions\"]) / len(testing_set_with_predictions)\n",
    "q5_3"
   ]
  },
  {
   "cell_type": "markdown",
   "metadata": {},
   "source": [
    "# Visualize Accuracy Rates for Different Choices of  𝑘 "
   ]
  },
  {
   "cell_type": "code",
   "execution_count": 112,
   "metadata": {
    "scrolled": false
   },
   "outputs": [
    {
     "data": {
      "image/png": "[encoded data removed]",
      "text/plain": [
       "<Figure size 720x576 with 1 Axes>"
      ]
     },
     "metadata": {
      "needs_background": "light"
     },
     "output_type": "display_data"
    }
   ],
   "source": [
    "plt.plot([7,15,31], [q5_3,0.67,q5_2], \"o:\")\n",
    "\n",
    "plt.xticks([7,15,31])\n",
    "plt.ylabel(\"Accuracy\")\n",
    "plt.xlabel(\"Value of k\")\n",
    "\n",
    "plt.title('Classfication from [\"like\",\"love\",\"the\",\"street\",\"style\",\"truck\",\"lone\"]');"
   ]
  },
  {
   "cell_type": "markdown",
   "metadata": {},
   "source": [
    "We learn that  𝑘=7  give the most accurate classifications. \n",
    "Also, if we experimented with the collection of words, then we would be able to make even more accurate classfications!"
   ]
  }
 ],
 "metadata": {
  "kernelspec": {
   "display_name": "Python 3",
   "language": "python",
   "name": "python3"
  },
  "language_info": {
   "codemirror_mode": {
    "name": "ipython",
    "version": 3
   },
   "file_extension": ".py",
   "mimetype": "text/x-python",
   "name": "python",
   "nbconvert_exporter": "python",
   "pygments_lexer": "ipython3",
   "version": "3.8.3"
  }
 },
 "nbformat": 4,
 "nbformat_minor": 4
}
